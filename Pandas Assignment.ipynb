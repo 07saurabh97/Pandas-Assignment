{
 "cells": [
  {
   "cell_type": "markdown",
   "id": "c156064e-84dc-4eb7-854f-6d95ad8ff65c",
   "metadata": {},
   "source": [
    "Q1. Create a Pandas Series that contains the following data: 4, 8, 15, 16, 23, and 42. Then, print the series."
   ]
  },
  {
   "cell_type": "code",
   "execution_count": 1,
   "id": "69c5dff5-d5d9-4fe9-8002-5cd14b0e585f",
   "metadata": {},
   "outputs": [
    {
     "name": "stdout",
     "output_type": "stream",
     "text": [
      "0     4\n",
      "1     8\n",
      "2    15\n",
      "3    16\n",
      "4    23\n",
      "5    42\n",
      "dtype: int64\n"
     ]
    }
   ],
   "source": [
    "import pandas as pd\n",
    "\n",
    "data = [4, 8, 15, 16, 23, 42]\n",
    "\n",
    "series = pd.Series(data)\n",
    "\n",
    "print(series)\n"
   ]
  },
  {
   "cell_type": "markdown",
   "id": "8a12a030-7b3a-4d4c-95c5-368fc7907051",
   "metadata": {},
   "source": [
    "Q2. Create a variable of list type containing 10 elements in it, and apply pandas.Series function on the\n",
    "variable print it."
   ]
  },
  {
   "cell_type": "code",
   "execution_count": 3,
   "id": "2daf9304-80e3-426a-8103-e1a7bcb7cfec",
   "metadata": {},
   "outputs": [
    {
     "name": "stdout",
     "output_type": "stream",
     "text": [
      "0     2\n",
      "1     4\n",
      "2     6\n",
      "3     8\n",
      "4    10\n",
      "5    12\n",
      "6    14\n",
      "7    16\n",
      "8    18\n",
      "9    20\n",
      "dtype: int64\n"
     ]
    }
   ],
   "source": [
    "my_list=[2,4,6,8,10,12,14,16,18,20]\n",
    "series_list=pd.Series(my_list)\n",
    "print(series_list)"
   ]
  },
  {
   "cell_type": "markdown",
   "id": "f2a1b062-673c-4ab4-aa75-7290636f1ba4",
   "metadata": {},
   "source": [
    "Q3. Create a Pandas DataFrame that contains the following data:\n"
   ]
  },
  {
   "cell_type": "code",
   "execution_count": 5,
   "id": "e26906e0-abc6-400f-b989-ab136479de21",
   "metadata": {},
   "outputs": [
    {
     "name": "stdout",
     "output_type": "stream",
     "text": [
      "     Name  Age  Gender\n",
      "0   Alice   25  Female\n",
      "1     Bob   30    Male\n",
      "2  Claire   27  Female\n"
     ]
    }
   ],
   "source": [
    "data = {\n",
    "    'Name':['Alice','Bob','Claire'],\n",
    "    'Age':[25,30,27],\n",
    "    'Gender':['Female','Male',\"Female\"]\n",
    "}\n",
    "data_frame=pd.DataFrame(data)\n",
    "print(data_frame)"
   ]
  },
  {
   "cell_type": "markdown",
   "id": "82512376-af5c-4690-9c7e-251362da2b2d",
   "metadata": {},
   "source": [
    "Q4. What is ‘DataFrame’ in pandas and how is it different from pandas.series? Explain with an example."
   ]
  },
  {
   "cell_type": "markdown",
   "id": "cc8bb8f5-ccdf-4857-8743-07482b80009f",
   "metadata": {},
   "source": [
    "A dataframe is a data structure constructed with rows and columns, similar to a database or Excel spreadsheet. It consists of a dictionary of lists in which the list each have their own identifiers or keys, such as \"first Name\",\"Last name\",\"Age\",etc.\n",
    "\n",
    "One of the main differences between DataFrame and Series is that a DataFrame can have multiple columns, while a Series can only have one. This means that a DataFrame can store more complex and heterogeneous data, while a Series can store more simple and homogeneous data."
   ]
  },
  {
   "cell_type": "code",
   "execution_count": 9,
   "id": "fa08855e-360e-46c7-ae48-cfefe2541c70",
   "metadata": {},
   "outputs": [
    {
     "name": "stdout",
     "output_type": "stream",
     "text": [
      "0    Saurabh\n",
      "1     Sanjay\n",
      "2     Sachin\n",
      "3       Yash\n",
      "4     Puneet\n",
      "dtype: object\n",
      "      Name  Age Gender\n",
      "0  Saurabh   26   Male\n",
      "1   Sanjay   23   Male\n",
      "2   Sachin   29   Male\n",
      "3     Yash    8   Male\n",
      "4   Puneet   30   Male\n"
     ]
    }
   ],
   "source": [
    "names = pd.Series(['Saurabh','Sanjay','Sachin','Yash','Puneet'])\n",
    "\n",
    "data = {\n",
    "    'Name':['Saurabh','Sanjay','Sachin','Yash','Puneet'],\n",
    "    'Age':[26,23,29,8,30],\n",
    "    'Gender':['Male','Male','Male','Male','Male']\n",
    "}\n",
    "df=pd.DataFrame(data)\n",
    "print(names)\n",
    "print(df)"
   ]
  },
  {
   "cell_type": "markdown",
   "id": "81bff18a-536a-49b8-83fc-6f7eb6b5af19",
   "metadata": {},
   "source": [
    "Q5. What are some common functions you can use to manipulate data in a Pandas DataFrame? Can\n",
    "you give an example of when you might use one of these functions?"
   ]
  },
  {
   "cell_type": "markdown",
   "id": "43f868b4-c644-48e0-b548-1dd44997954f",
   "metadata": {},
   "source": [
    "to_csv(): This function is used to write data contained in a Pandas DataFrame or Series to a CSV file. It is essential for saving data to a file for further analysis or sharing with others.\n",
    "\n",
    "head(): The head(n) function is used to return the first n rows of a dataset. It is helpful for quickly inspecting the beginning of a DataFrame to understand its structure and contents.\n",
    "\n",
    "applymap(): The applymap() function is used to apply a function to every single element in the entire DataFrame. It is useful for applying a function to each individual value in the DataFrame.\n",
    "\n",
    "melt(): The melt() function is used to unpivot a DataFrame from wide to long format, optionally leaving identifiers set. It is helpful for reshaping the DataFrame for specific analysis or visualization needs.\n",
    "\n",
    "rename(): The rename() method is used to rename variables in a Pandas DataFrame. It is commonly used to fix issues with the column names in the data."
   ]
  },
  {
   "cell_type": "markdown",
   "id": "d8ebd784-49cc-4e2c-a749-407ea282781c",
   "metadata": {},
   "source": [
    "Q6. Which of the following is mutable in nature Series, DataFrame, Panel?"
   ]
  },
  {
   "cell_type": "markdown",
   "id": "240a862f-0afa-4527-9c0c-45c2ea693490",
   "metadata": {},
   "source": [
    " DataFrame is the only data structure that is mutable in nature, both in terms of value and size."
   ]
  },
  {
   "cell_type": "markdown",
   "id": "15c1b43c-05f3-4533-9bce-68e5bd2ef5b8",
   "metadata": {},
   "source": [
    "Q7. Create a DataFrame using multiple Series. Explain with an example."
   ]
  },
  {
   "cell_type": "code",
   "execution_count": 15,
   "id": "7c9f706e-896f-464d-a2e7-2d378114d070",
   "metadata": {},
   "outputs": [
    {
     "name": "stdout",
     "output_type": "stream",
     "text": [
      "      NAME  AGE  GENDER\n",
      "0  Saurabh   26    Male\n",
      "1   sachin   29    Male\n",
      "2   Sanjay   24    Male\n",
      "3   Deepak   25    Male\n",
      "4    Sujal   18    Male\n",
      "5    Priya   16  Female\n"
     ]
    }
   ],
   "source": [
    "name=pd.Series(['Saurabh','sachin','Sanjay','Deepak','Sujal','Priya'])\n",
    "\n",
    "age=pd.Series([26,29,24,25,18,16])\n",
    "\n",
    "gender=pd.Series(['Male','Male','Male','Male','Male','Female'])\n",
    "\n",
    "df=pd.concat([name,age,gender], axis=1)\n",
    "\n",
    "df.columns=['NAME','AGE','GENDER']\n",
    "\n",
    "print(df)"
   ]
  },
  {
   "cell_type": "code",
   "execution_count": null,
   "id": "45b1c4ff-bc2c-48ce-b9a9-8a8c16e99cdc",
   "metadata": {},
   "outputs": [],
   "source": []
  },
  {
   "cell_type": "code",
   "execution_count": null,
   "id": "6241fba1-a4e1-43f4-8d3b-e181ed711d5d",
   "metadata": {},
   "outputs": [],
   "source": []
  }
 ],
 "metadata": {
  "kernelspec": {
   "display_name": "Python 3 (ipykernel)",
   "language": "python",
   "name": "python3"
  },
  "language_info": {
   "codemirror_mode": {
    "name": "ipython",
    "version": 3
   },
   "file_extension": ".py",
   "mimetype": "text/x-python",
   "name": "python",
   "nbconvert_exporter": "python",
   "pygments_lexer": "ipython3",
   "version": "3.10.8"
  }
 },
 "nbformat": 4,
 "nbformat_minor": 5
}
